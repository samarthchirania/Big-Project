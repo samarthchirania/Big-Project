{
 "cells": [
  {
   "cell_type": "code",
   "id": "initial_id",
   "metadata": {
    "collapsed": true,
    "ExecuteTime": {
     "end_time": "2024-04-07T10:06:57.064747Z",
     "start_time": "2024-04-07T10:06:57.062596Z"
    }
   },
   "source": [
    "import numpy as np\n",
    "import matplotlib.pyplot as plt\n",
    "import random\n"
   ],
   "outputs": [],
   "execution_count": 22
  },
  {
   "metadata": {
    "ExecuteTime": {
     "end_time": "2024-04-07T10:06:57.479749Z",
     "start_time": "2024-04-07T10:06:57.476765Z"
    }
   },
   "cell_type": "code",
   "source": [
    "#Function that adds water to each glass equally for A and removes water from the cup with the most amount of water and the next cup clockwise.\n",
    "def constant_div(n_1, steps_1): #n_1 = game size, steps_1 = number of steps for which the process is repeated. \n",
    "    tot = 0.5 #total amount of water available = 0.5 pints\n",
    "    glasses = np.zeros(n_1) #Empty glasses \n",
    "    addition = tot / n_1 #Amount of water being added to each glass\n",
    "    max_water = 0 #keeps track of the highest water level in each step\n",
    "    overall_max = 0 #keeps track of the highest water level every achieved\n",
    "    k = 0\n",
    "    while k <= steps_1:\n",
    "        if max_water <= 1:\n",
    "            for i in range(n_1):\n",
    "                glasses[i] += addition\n",
    "            removal_index = glasses.argmax()\n",
    "            if removal_index == n_1 - 1:\n",
    "                glasses[removal_index] = 0\n",
    "                glasses[0] = 0\n",
    "            else:\n",
    "                glasses[removal_index] = 0\n",
    "                glasses[removal_index + 1] = 0\n",
    "            max_water = glasses.max()\n",
    "            if max_water >= overall_max:\n",
    "                overall_max = max_water\n",
    "\n",
    "            print(\"No glasses full. Max water: \" + str(max_water))\n",
    "            print(glasses)\n",
    "        else:\n",
    "            return overall_max\n",
    "        k += 1\n",
    "    print('Overall max water achieved = ', str(overall_max))\n",
    "    return overall_max"
   ],
   "id": "f68891b563b708e0",
   "outputs": [],
   "execution_count": 23
  },
  {
   "metadata": {
    "ExecuteTime": {
     "end_time": "2024-04-07T09:59:39.389279Z",
     "start_time": "2024-04-07T09:59:39.385507Z"
    }
   },
   "cell_type": "code",
   "source": "constant_div(8,10)",
   "id": "b1c3dd93a43e03ba",
   "outputs": [
    {
     "name": "stdout",
     "output_type": "stream",
     "text": [
      "No glasses full. Max water: 0.0625\n",
      "[0.     0.     0.0625 0.0625 0.0625 0.0625 0.0625 0.0625]\n",
      "No glasses full. Max water: 0.125\n",
      "[0.0625 0.0625 0.     0.     0.125  0.125  0.125  0.125 ]\n",
      "No glasses full. Max water: 0.1875\n",
      "[0.125  0.125  0.0625 0.0625 0.     0.     0.1875 0.1875]\n",
      "No glasses full. Max water: 0.1875\n",
      "[0.1875 0.1875 0.125  0.125  0.0625 0.0625 0.     0.    ]\n",
      "No glasses full. Max water: 0.1875\n",
      "[0.     0.     0.1875 0.1875 0.125  0.125  0.0625 0.0625]\n",
      "No glasses full. Max water: 0.1875\n",
      "[0.0625 0.0625 0.     0.     0.1875 0.1875 0.125  0.125 ]\n",
      "No glasses full. Max water: 0.1875\n",
      "[0.125  0.125  0.0625 0.0625 0.     0.     0.1875 0.1875]\n",
      "No glasses full. Max water: 0.1875\n",
      "[0.1875 0.1875 0.125  0.125  0.0625 0.0625 0.     0.    ]\n",
      "No glasses full. Max water: 0.1875\n",
      "[0.     0.     0.1875 0.1875 0.125  0.125  0.0625 0.0625]\n",
      "No glasses full. Max water: 0.1875\n",
      "[0.0625 0.0625 0.     0.     0.1875 0.1875 0.125  0.125 ]\n",
      "No glasses full. Max water: 0.1875\n",
      "[0.125  0.125  0.0625 0.0625 0.     0.     0.1875 0.1875]\n",
      "Overall max water achieved =  0.1875\n"
     ]
    },
    {
     "data": {
      "text/plain": [
       "0.1875"
      ]
     },
     "execution_count": 3,
     "metadata": {},
     "output_type": "execute_result"
    }
   ],
   "execution_count": 3
  },
  {
   "metadata": {
    "ExecuteTime": {
     "end_time": "2024-04-07T09:59:39.392264Z",
     "start_time": "2024-04-07T09:59:39.389824Z"
    }
   },
   "cell_type": "code",
   "source": [
    "#Same function as above without the print statements\n",
    "def constant_div(n_1, steps_1):\n",
    "    tot = 0.5\n",
    "    glasses = np.zeros(n_1)\n",
    "    addition = tot / n_1\n",
    "    max_water = 0\n",
    "    overall_max = 0\n",
    "    k = 0\n",
    "    while k <= steps_1:\n",
    "        if max_water <= 1:\n",
    "            for i in range(n_1):\n",
    "                glasses[i] += addition\n",
    "            removal_index = glasses.argmax()\n",
    "            if removal_index == n_1 - 1:\n",
    "                glasses[removal_index] = 0\n",
    "                glasses[0] = 0\n",
    "            else:\n",
    "                glasses[removal_index] = 0\n",
    "                glasses[removal_index + 1] = 0\n",
    "            max_water = glasses.max()\n",
    "            if max_water >= overall_max:\n",
    "                overall_max = max_water\n",
    "\n",
    "            #print(\"No glasses full. Max water: \" + str(max_water))\n",
    "            #print(glasses)\n",
    "        else:\n",
    "            return overall_max\n",
    "        k += 1\n",
    "    #print('Overall max water achieved = ', str(overall_max))\n",
    "    return overall_max"
   ],
   "id": "f658f8b5bb56deb",
   "outputs": [],
   "execution_count": 4
  },
  {
   "metadata": {
    "ExecuteTime": {
     "end_time": "2024-04-07T09:59:39.396094Z",
     "start_time": "2024-04-07T09:59:39.393553Z"
    }
   },
   "cell_type": "code",
   "source": [
    "#Similar function but instead of adding water in each glasses, we add water in every other glass. Removal scheme remains the same.\n",
    "def constant_div_2(n_2, steps_2):\n",
    "    tot = 0.5\n",
    "    glasses = np.zeros(n_2)\n",
    "    addition = (tot * 2) / n_2\n",
    "    max_water = 0\n",
    "    overall_max = 0\n",
    "    k = 0\n",
    "    addition_index = np.arange(0, n_2, 2)\n",
    "    while k <= steps_2:\n",
    "        if max_water <= 1:\n",
    "            for i in addition_index:\n",
    "                glasses[i] += addition\n",
    "            removal_index = glasses.argmax()\n",
    "            if removal_index == n_2 - 1:\n",
    "                glasses[removal_index] = 0\n",
    "                glasses[0] = 0\n",
    "            else:\n",
    "                glasses[removal_index] = 0\n",
    "                glasses[removal_index + 1] = 0\n",
    "            max_water = glasses.max()\n",
    "            if max_water >= overall_max:\n",
    "                overall_max = max_water\n",
    "\n",
    "            #print(\"No glasses full. Max water: \" + str(max_water))\n",
    "        else:\n",
    "            return overall_max\n",
    "        k += 1\n",
    "\n",
    "        #print('Overall max water achieved = ', str(overall_max))\n",
    "    return overall_max"
   ],
   "id": "e2933afb03f0bc9c",
   "outputs": [],
   "execution_count": 5
  },
  {
   "metadata": {
    "ExecuteTime": {
     "end_time": "2024-04-07T09:59:39.398430Z",
     "start_time": "2024-04-07T09:59:39.396659Z"
    }
   },
   "cell_type": "code",
   "source": [
    "n_s = [5, 10, 20, 40, 50, 80, 100, 150, 200, 500, 800, 1000]\n",
    "steps = 200_000\n",
    "waters_no_div = []\n",
    "waters_div = []"
   ],
   "id": "6266c2bf56c1441b",
   "outputs": [],
   "execution_count": 6
  },
  {
   "metadata": {
    "ExecuteTime": {
     "end_time": "2024-04-07T10:01:22.431026Z",
     "start_time": "2024-04-07T09:59:39.398946Z"
    }
   },
   "cell_type": "code",
   "source": [
    "#Running the simulation that leaves gaps and does not leave gaps for several values of n to get an estimate as to if we have a limiting point for the max water. \n",
    "for i in range(len(n_s)):\n",
    "    waters_no_div.append(constant_div(n_s[i], steps))\n",
    "    waters_div.append(constant_div_2(n_s[i], steps))\n",
    "    print('Sim for ' + str(n_s[i]) + ' div/no_div is ' + str(waters_no_div[i]), '/ ' + str(waters_div[i]))"
   ],
   "id": "b480781dac7e184e",
   "outputs": [
    {
     "name": "stdout",
     "output_type": "stream",
     "text": [
      "Sim for 5 div/no_div is 0.2 / 0.4\n",
      "Sim for 10 div/no_div is 0.2 / 0.4\n",
      "Sim for 20 div/no_div is 0.22499999999999998 / 0.44999999999999996\n",
      "Sim for 40 div/no_div is 0.23750000000000007 / 0.47500000000000014\n",
      "Sim for 50 div/no_div is 0.24000000000000007 / 0.48000000000000015\n",
      "Sim for 80 div/no_div is 0.24375000000000013 / 0.48750000000000027\n",
      "Sim for 100 div/no_div is 0.24500000000000013 / 0.49000000000000027\n",
      "Sim for 150 div/no_div is 0.24666666666666634 / 0.4933333333333327\n",
      "Sim for 200 div/no_div is 0.24750000000000016 / 0.49500000000000033\n",
      "Sim for 500 div/no_div is 0.2490000000000002 / 0.4980000000000004\n",
      "Sim for 800 div/no_div is 0.24937499999999743 / 0.49874999999999486\n",
      "Sim for 1000 div/no_div is 0.2495000000000002 / 0.4990000000000004\n"
     ]
    }
   ],
   "execution_count": 7
  },
  {
   "metadata": {
    "ExecuteTime": {
     "end_time": "2024-04-07T10:01:22.563228Z",
     "start_time": "2024-04-07T10:01:22.431782Z"
    }
   },
   "cell_type": "code",
   "source": [
    "plt.plot(n_s, waters_no_div)\n",
    "plt.xlabel('Number of glasses')\n",
    "plt.ylabel('Maximum water at any point')\n",
    "plt.show()\n",
    "\n",
    "plt.plot(n_s, waters_div)\n",
    "plt.xlabel('Number of glasses')\n",
    "plt.ylabel('Maximum water at any point')\n",
    "plt.show()"
   ],
   "id": "e0dad86159eae556",
   "outputs": [
    {
     "data": {
      "text/plain": [
       "<Figure size 640x480 with 1 Axes>"
      ],
      "image/png": "[encoded data removed]"
     },
     "metadata": {},
     "output_type": "display_data"
    },
    {
     "data": {
      "text/plain": [
       "<Figure size 640x480 with 1 Axes>"
      ],
      "image/png": "[encoded data removed]"
     },
     "metadata": {},
     "output_type": "display_data"
    }
   ],
   "execution_count": 8
  },
  {
   "metadata": {
    "ExecuteTime": {
     "end_time": "2024-04-07T10:01:22.567122Z",
     "start_time": "2024-04-07T10:01:22.564276Z"
    }
   },
   "cell_type": "code",
   "source": [
    "#New function that retains the removal strategy. Here we add another parameter to adjust the distance between 2 cups that will be filled\n",
    "def variable_div(n, steps, space):\n",
    "    tot = 0.5\n",
    "    glasses = np.zeros(n)\n",
    "    addition = ((tot * space) / n)\n",
    "    max_water = 0\n",
    "    overall_max = 0\n",
    "    k = 0\n",
    "    addition_index = np.arange(0, n, space)\n",
    "    while k <= steps:\n",
    "        if max_water <= 1:\n",
    "            for i in addition_index:\n",
    "                glasses[i] += addition\n",
    "            removal_index = glasses.argmax()\n",
    "            if removal_index == n-1:\n",
    "                glasses[removal_index] = 0\n",
    "                glasses[0] = 0\n",
    "            else:\n",
    "                glasses[removal_index] = 0\n",
    "                glasses[removal_index + 1] = 0\n",
    "            max_water = glasses.max()\n",
    "            if max_water >= overall_max:\n",
    "                overall_max = max_water\n",
    "            if overall_max > 1:\n",
    "                return overall_max\n",
    "        k += 1\n",
    "    return overall_max"
   ],
   "id": "7638f17682ef4349",
   "outputs": [],
   "execution_count": 9
  },
  {
   "metadata": {
    "ExecuteTime": {
     "end_time": "2024-04-07T10:01:22.569635Z",
     "start_time": "2024-04-07T10:01:22.567607Z"
    }
   },
   "cell_type": "code",
   "source": [
    "n_s = [10, 20, 40, 50, 80, 100, 150, 200, 500, 800, 1000]\n",
    "steps = 200_000\n",
    "space = [1, 2, 3, 4, 5, 6, 7]"
   ],
   "id": "64c4debc8496391",
   "outputs": [],
   "execution_count": 10
  },
  {
   "metadata": {
    "ExecuteTime": {
     "end_time": "2024-04-07T10:05:16.234260Z",
     "start_time": "2024-04-07T10:01:22.570085Z"
    }
   },
   "cell_type": "code",
   "source": [
    "#Running the simulation for various values of n, 200_000 steps and different spacings within each game to see if that changes the limiting point.\n",
    "for i in space:\n",
    "    water_level = []  # Initialize the list for this space configuration\n",
    "    for j in n_s:\n",
    "        level = variable_div(j, steps, i)  # Get the water level for the current configuration\n",
    "        water_level.append(level)  \n",
    "        print('Done for ', str(j), 'glasses with gap of', str(i) )\n",
    "    plt.plot(n_s, water_level, label=f'Gap of {i}')  # Plot for the current space configuration\n",
    "\n",
    "plt.legend()\n",
    "plt.xlabel('Number of Glasses')\n",
    "plt.ylabel('Maximum Water level')  \n",
    "plt.show()"
   ],
   "id": "dc860f7ad1d1af17",
   "outputs": [
    {
     "name": "stdout",
     "output_type": "stream",
     "text": [
      "Done for  10 glasses with gap of 1\n",
      "Done for  20 glasses with gap of 1\n",
      "Done for  40 glasses with gap of 1\n",
      "Done for  50 glasses with gap of 1\n",
      "Done for  80 glasses with gap of 1\n",
      "Done for  100 glasses with gap of 1\n",
      "Done for  150 glasses with gap of 1\n",
      "Done for  200 glasses with gap of 1\n",
      "Done for  500 glasses with gap of 1\n",
      "Done for  800 glasses with gap of 1\n",
      "Done for  1000 glasses with gap of 1\n",
      "Done for  10 glasses with gap of 2\n",
      "Done for  20 glasses with gap of 2\n",
      "Done for  40 glasses with gap of 2\n",
      "Done for  50 glasses with gap of 2\n",
      "Done for  80 glasses with gap of 2\n",
      "Done for  100 glasses with gap of 2\n",
      "Done for  150 glasses with gap of 2\n",
      "Done for  200 glasses with gap of 2\n",
      "Done for  500 glasses with gap of 2\n",
      "Done for  800 glasses with gap of 2\n",
      "Done for  1000 glasses with gap of 2\n",
      "Done for  10 glasses with gap of 3\n",
      "Done for  20 glasses with gap of 3\n",
      "Done for  40 glasses with gap of 3\n",
      "Done for  50 glasses with gap of 3\n",
      "Done for  80 glasses with gap of 3\n",
      "Done for  100 glasses with gap of 3\n",
      "Done for  150 glasses with gap of 3\n",
      "Done for  200 glasses with gap of 3\n",
      "Done for  500 glasses with gap of 3\n",
      "Done for  800 glasses with gap of 3\n",
      "Done for  1000 glasses with gap of 3\n",
      "Done for  10 glasses with gap of 4\n",
      "Done for  20 glasses with gap of 4\n",
      "Done for  40 glasses with gap of 4\n",
      "Done for  50 glasses with gap of 4\n",
      "Done for  80 glasses with gap of 4\n",
      "Done for  100 glasses with gap of 4\n",
      "Done for  150 glasses with gap of 4\n",
      "Done for  200 glasses with gap of 4\n",
      "Done for  500 glasses with gap of 4\n",
      "Done for  800 glasses with gap of 4\n",
      "Done for  1000 glasses with gap of 4\n",
      "Done for  10 glasses with gap of 5\n",
      "Done for  20 glasses with gap of 5\n",
      "Done for  40 glasses with gap of 5\n",
      "Done for  50 glasses with gap of 5\n",
      "Done for  80 glasses with gap of 5\n",
      "Done for  100 glasses with gap of 5\n",
      "Done for  150 glasses with gap of 5\n",
      "Done for  200 glasses with gap of 5\n",
      "Done for  500 glasses with gap of 5\n",
      "Done for  800 glasses with gap of 5\n",
      "Done for  1000 glasses with gap of 5\n",
      "Done for  10 glasses with gap of 6\n",
      "Done for  20 glasses with gap of 6\n",
      "Done for  40 glasses with gap of 6\n",
      "Done for  50 glasses with gap of 6\n",
      "Done for  80 glasses with gap of 6\n",
      "Done for  100 glasses with gap of 6\n",
      "Done for  150 glasses with gap of 6\n",
      "Done for  200 glasses with gap of 6\n",
      "Done for  500 glasses with gap of 6\n",
      "Done for  800 glasses with gap of 6\n",
      "Done for  1000 glasses with gap of 6\n",
      "Done for  10 glasses with gap of 7\n",
      "Done for  20 glasses with gap of 7\n",
      "Done for  40 glasses with gap of 7\n",
      "Done for  50 glasses with gap of 7\n",
      "Done for  80 glasses with gap of 7\n",
      "Done for  100 glasses with gap of 7\n",
      "Done for  150 glasses with gap of 7\n",
      "Done for  200 glasses with gap of 7\n",
      "Done for  500 glasses with gap of 7\n",
      "Done for  800 glasses with gap of 7\n",
      "Done for  1000 glasses with gap of 7\n"
     ]
    },
    {
     "data": {
      "text/plain": [
       "<Figure size 640x480 with 1 Axes>"
      ],
      "image/png": "[encoded data removed]"
     },
     "metadata": {},
     "output_type": "display_data"
    }
   ],
   "execution_count": 11
  },
  {
   "metadata": {
    "ExecuteTime": {
     "end_time": "2024-04-07T10:05:16.238605Z",
     "start_time": "2024-04-07T10:05:16.234884Z"
    }
   },
   "cell_type": "code",
   "source": [
    "#Defining a function that runs a simulation of the game of size n = 4 ##NOTE: this allows for a smallest addition of 0 or 0.025 pints but I do not think this has an effect on the overall outcome\n",
    "def game_4(k_iterations):\n",
    "    import random  # To generate random numbers\n",
    "\n",
    "    arr = [0, 0, 0, 0]  # Initial array\n",
    "    steps = []  # To keep track of steps\n",
    "    largest_value = 0  # To keep track of the largest value encountered\n",
    "\n",
    "    for _ in range(k_iterations):\n",
    "        # Randomly select parts for the addition vector\n",
    "        k = random.randint(0, 20)\n",
    "        j = random.randint(0, 20 - k)\n",
    "        l = random.randint(0, 20 - k - j)\n",
    "        m = 20 - k - j - l  # Remaining parts for the last element\n",
    "\n",
    "        # Convert these parts into fractions of 0.5\n",
    "        addition_vector = [\n",
    "            0.5 * (k / 20),\n",
    "            0.5 * (j / 20),\n",
    "            0.5 * (l / 20),\n",
    "            0.5 * (m / 20)\n",
    "        ]\n",
    "\n",
    "        # Add the random vector to the array\n",
    "        arr = [arr[i] + addition_vector[i] for i in range(4)]\n",
    "        steps.append(('Addition', addition_vector, arr.copy()))\n",
    "        # Update the largest value if the current max exceeds it\n",
    "        \n",
    "\n",
    "        # Removal process - executed in each iteration regardless of array values\n",
    "        max_index = arr.index(max(arr))  # Index of the largest number\n",
    "        left_index = (max_index - 1) % 4  # Circular left neighbor\n",
    "        right_index = (max_index + 1) % 4  # Circular right neighbor\n",
    "\n",
    "        # Determine the larger of the two adjacent elements\n",
    "        larger_adjacent_index = left_index if arr[left_index] > arr[right_index] else right_index\n",
    "\n",
    "        # Set the largest and the larger adjacent number to 0\n",
    "        arr[max_index], arr[larger_adjacent_index] = 0, 0\n",
    "        steps.append(('Removal', [max_index, larger_adjacent_index], arr.copy()))\n",
    "\n",
    "        # Update the largest value if necessary\n",
    "        current_max = max(arr)\n",
    "        if current_max > largest_value:\n",
    "            largest_value = current_max\n",
    "\n",
    "        # Check for overfill after removal\n",
    "        if any(element > 1 for element in arr):\n",
    "            print(\"A glass overfilled\")\n",
    "            return steps, largest_value\n",
    "    print('Simulation complete')\n",
    "    return steps, largest_value"
   ],
   "id": "5c5944ed759d5b83",
   "outputs": [],
   "execution_count": 12
  },
  {
   "metadata": {
    "ExecuteTime": {
     "end_time": "2024-04-07T10:05:16.282693Z",
     "start_time": "2024-04-07T10:05:16.239145Z"
    }
   },
   "cell_type": "code",
   "source": [
    "steps_made, largest_value_encountered = game_4(10_000)\n",
    "# for step in steps_made:\n",
    "#     print(step)\n",
    "print(\"Largest value encountered:\", largest_value_encountered)"
   ],
   "id": "5f3519edadfc884b",
   "outputs": [
    {
     "name": "stdout",
     "output_type": "stream",
     "text": [
      "Simulation complete\n",
      "Largest value encountered: 0.375\n"
     ]
    }
   ],
   "execution_count": 13
  },
  {
   "metadata": {
    "ExecuteTime": {
     "end_time": "2024-04-07T10:09:14.844947Z",
     "start_time": "2024-04-07T10:09:14.840783Z"
    }
   },
   "cell_type": "code",
   "source": [
    "def simulate_process(k):\n",
    "    arr = [0, 0, 0, 0]  # Initial array\n",
    "    steps = []  # To track all steps\n",
    "\n",
    "    for i in range(k):  # Loop for k iterations\n",
    "        # Randomly select parts for the addition vector\n",
    "        r = random.randint(0, 20)\n",
    "        j = random.randint(0, 20 - r)\n",
    "        l = random.randint(0, 20 - r - j)\n",
    "        m = 20 - r - j - l  # Remaining parts for the last element\n",
    "\n",
    "        # Convert these parts into fractions of 0.5\n",
    "        addition_vector = [\n",
    "            0.5 * (r / 20),\n",
    "            0.5 * (j / 20),\n",
    "            0.5 * (l / 20),\n",
    "            0.5 * (m / 20)\n",
    "        ]\n",
    "\n",
    "        arr = [arr[i] + addition_vector[i] for i in range(4)]\n",
    "        steps.append(('Addition', i + 1, addition_vector, arr.copy()))\n",
    "\n",
    "        # Perform the removal process\n",
    "        max_index = arr.index(max(arr))  # Index of the largest number\n",
    "        left_index = (max_index - 1) % 4  # Circular left neighbor\n",
    "        right_index = (max_index + 1) % 4  # Circular right neighbor\n",
    "\n",
    "        # Determine the larger of the two adjacent elements\n",
    "        larger_adjacent_index = left_index if arr[left_index] > arr[right_index] else right_index\n",
    "\n",
    "        # Set the largest and the larger adjacent number to 0\n",
    "        arr[max_index], arr[larger_adjacent_index] = 0, 0\n",
    "        steps.append(('Removal', i + 1, [max_index, larger_adjacent_index], arr.copy()))\n",
    "\n",
    "        # Check if any value is greater than 0.5 only after the removal step\n",
    "        if any(value > 0.5 for value in arr):\n",
    "            return steps  # Return all steps up to this point including the removal step\n",
    "\n",
    "    return False  # Return all steps if the condition is never met within k iterations\n"
   ],
   "id": "4b46ea5047479019",
   "outputs": [],
   "execution_count": 31
  },
  {
   "metadata": {
    "ExecuteTime": {
     "end_time": "2024-04-07T10:09:25.255559Z",
     "start_time": "2024-04-07T10:09:25.253760Z"
    }
   },
   "cell_type": "code",
   "source": "k = 200_000",
   "id": "1d672cf898f1a42a",
   "outputs": [],
   "execution_count": 32
  },
  {
   "metadata": {
    "ExecuteTime": {
     "end_time": "2024-04-07T10:10:24.673748Z",
     "start_time": "2024-04-07T10:10:24.023244Z"
    }
   },
   "cell_type": "code",
   "source": [
    "results = simulate_process(k)\n",
    "if results:\n",
    "    print(results)\n",
    "else: print('Sim never exceeded 0.5 pints')"
   ],
   "id": "c5f497d4b4fb770e",
   "outputs": [
    {
     "name": "stdout",
     "output_type": "stream",
     "text": [
      "Sim never exceeded 0.5 pints\n"
     ]
    }
   ],
   "execution_count": 33
  },
  {
   "metadata": {
    "ExecuteTime": {
     "end_time": "2024-04-07T11:38:05.688877Z",
     "start_time": "2024-04-07T11:38:05.684065Z"
    }
   },
   "cell_type": "code",
   "source": [
    "#Defining the function that takes in any game size and the number of steps to run the game for. Here we rely on randomly assigning how much water to add to each glass at each step, which is perhaps not the most efficient way to do this.\n",
    "def simulate_process_custom(n, k):\n",
    "    arr = np.zeros(n)  # Initial array\n",
    "    steps = []  # To track all steps\n",
    "\n",
    "    for i in range(k):  # Loop for k iterations\n",
    "        addition_func = np.zeros_like(arr)\n",
    "        for j in range(n):\n",
    "            if j < n-1:\n",
    "                kernel = sum(addition_func)\n",
    "                addition_func[j] = random.randint(0, 20 - kernel)\n",
    "            if j == n-1:\n",
    "                addition_func[j] = 20 - sum(addition_func)\n",
    "\n",
    "        # Convert these parts into fractions of 0.5\n",
    "        addition_vector = 0.5 * addition_func / 20\n",
    "\n",
    "        arr = [arr[i] + addition_vector[i] for i in range(n)]\n",
    "        steps.append(('Addition', i + 1, addition_vector, arr.copy()))\n",
    "\n",
    "        # Perform the removal process\n",
    "        max_index = arr.index(max(arr))  # Index of the largest number\n",
    "        left_index = (max_index - 1) % n  # Circular left neighbor\n",
    "        right_index = (max_index + 1) % n  # Circular right neighbor\n",
    "\n",
    "        # Determine the larger of the two adjacent elements\n",
    "        larger_adjacent_index = left_index if arr[left_index] > arr[right_index] else right_index\n",
    "\n",
    "        # Set the largest and the larger adjacent number to 0\n",
    "        arr[max_index], arr[larger_adjacent_index] = 0, 0\n",
    "        steps.append(('Removal', i + 1, [max_index, larger_adjacent_index], arr.copy()))\n",
    "\n",
    "        # Check if any value is greater than 0.5 only after the removal step\n",
    "        if any(value > 0.5 for value in arr):\n",
    "            return True, steps  # Return True and all steps up to this point including the removal step\n",
    "\n",
    "    return False, steps  # Return False and all steps if the condition is never met within k iterations\n"
   ],
   "id": "1bbb2c98343ba7cf",
   "outputs": [],
   "execution_count": 90
  },
  {
   "metadata": {
    "ExecuteTime": {
     "end_time": "2024-04-07T11:47:57.834748Z",
     "start_time": "2024-04-07T11:47:30.525565Z"
    }
   },
   "cell_type": "code",
   "source": [
    "result = simulate_process_custom(5, 2000000)\n",
    "print(len(result[1])/2)"
   ],
   "id": "850652aa653586f9",
   "outputs": [
    {
     "name": "stdout",
     "output_type": "stream",
     "text": [
      "2000000.0\n"
     ]
    }
   ],
   "execution_count": 113
  },
  {
   "metadata": {},
   "cell_type": "code",
   "outputs": [],
   "execution_count": null,
   "source": "",
   "id": "beb98a66801a0529"
  }
 ],
 "metadata": {
  "kernelspec": {
   "display_name": "Python 3",
   "language": "python",
   "name": "python3"
  },
  "language_info": {
   "codemirror_mode": {
    "name": "ipython",
    "version": 2
   },
   "file_extension": ".py",
   "mimetype": "text/x-python",
   "name": "python",
   "nbconvert_exporter": "python",
   "pygments_lexer": "ipython2",
   "version": "2.7.6"
  }
 },
 "nbformat": 4,
 "nbformat_minor": 5
}
