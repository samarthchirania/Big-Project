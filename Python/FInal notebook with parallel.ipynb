{
 "cells": [
  {
   "cell_type": "code",
   "id": "initial_id",
   "metadata": {
    "collapsed": true,
    "ExecuteTime": {
     "end_time": "2024-04-07T09:49:09.294408Z",
     "start_time": "2024-04-07T09:49:09.025616Z"
    }
   },
   "source": [
    "import os\n",
    "core = os.cpu_count()\n",
    "import numpy as np\n",
    "import matplotlib.pyplot as plt"
   ],
   "outputs": [],
   "execution_count": 1
  },
  {
   "metadata": {
    "ExecuteTime": {
     "end_time": "2024-04-07T09:49:09.312431Z",
     "start_time": "2024-04-07T09:49:09.299783Z"
    }
   },
   "cell_type": "code",
   "source": [
    "#Function that adds water to each glass equally for A and removes water from the cup with the most amount of water and the next cup clockwise.\n",
    "def constant_div(n_1, steps_1): #n_1 = game size, steps_1 = number of steps for which the process is repeated. \n",
    "    tot = 0.5 #total amount of water available = 0.5 pints\n",
    "    glasses = np.zeros(n_1) #Empty glassses \n",
    "    addition = tot / n_1 #Amount of water being added to each glass\n",
    "    max_water = 0 #keeps track of the highest water level in each step\n",
    "    overall_max = 0 #keeps track of the highest water level every achieved\n",
    "    k = 0\n",
    "    while k <= steps_1:\n",
    "        if max_water <= 1:\n",
    "            for i in range(n_1):\n",
    "                glasses[i] += addition\n",
    "            removal_index = glasses.argmax()\n",
    "            if removal_index == n_1 - 1:\n",
    "                glasses[removal_index] = 0\n",
    "                glasses[0] = 0\n",
    "            else:\n",
    "                glasses[removal_index] = 0\n",
    "                glasses[removal_index + 1] = 0\n",
    "            max_water = glasses.max()\n",
    "            if max_water >= overall_max:\n",
    "                overall_max = max_water\n",
    "\n",
    "            print(\"No glasses full. Max water: \" + str(max_water))\n",
    "            print(glasses)\n",
    "        else:\n",
    "            return overall_max\n",
    "        k += 1\n",
    "    print('Overall max water achieved = ', str(overall_max))\n",
    "    return overall_max"
   ],
   "id": "3bbd24e7ee9cdbec",
   "outputs": [],
   "execution_count": 2
  },
  {
   "metadata": {
    "ExecuteTime": {
     "end_time": "2024-04-07T09:49:09.317047Z",
     "start_time": "2024-04-07T09:49:09.313241Z"
    }
   },
   "cell_type": "code",
   "source": "constant_div(8,10)",
   "id": "e20f491fe56df9c0",
   "outputs": [
    {
     "name": "stdout",
     "output_type": "stream",
     "text": [
      "No glasses full. Max water: 0.0625\n",
      "[0.     0.     0.0625 0.0625 0.0625 0.0625 0.0625 0.0625]\n",
      "No glasses full. Max water: 0.125\n",
      "[0.0625 0.0625 0.     0.     0.125  0.125  0.125  0.125 ]\n",
      "No glasses full. Max water: 0.1875\n",
      "[0.125  0.125  0.0625 0.0625 0.     0.     0.1875 0.1875]\n",
      "No glasses full. Max water: 0.1875\n",
      "[0.1875 0.1875 0.125  0.125  0.0625 0.0625 0.     0.    ]\n",
      "No glasses full. Max water: 0.1875\n",
      "[0.     0.     0.1875 0.1875 0.125  0.125  0.0625 0.0625]\n",
      "No glasses full. Max water: 0.1875\n",
      "[0.0625 0.0625 0.     0.     0.1875 0.1875 0.125  0.125 ]\n",
      "No glasses full. Max water: 0.1875\n",
      "[0.125  0.125  0.0625 0.0625 0.     0.     0.1875 0.1875]\n",
      "No glasses full. Max water: 0.1875\n",
      "[0.1875 0.1875 0.125  0.125  0.0625 0.0625 0.     0.    ]\n",
      "No glasses full. Max water: 0.1875\n",
      "[0.     0.     0.1875 0.1875 0.125  0.125  0.0625 0.0625]\n",
      "No glasses full. Max water: 0.1875\n",
      "[0.0625 0.0625 0.     0.     0.1875 0.1875 0.125  0.125 ]\n",
      "No glasses full. Max water: 0.1875\n",
      "[0.125  0.125  0.0625 0.0625 0.     0.     0.1875 0.1875]\n",
      "Overall max water achieved =  0.1875\n"
     ]
    },
    {
     "data": {
      "text/plain": [
       "0.1875"
      ]
     },
     "execution_count": 3,
     "metadata": {},
     "output_type": "execute_result"
    }
   ],
   "execution_count": 3
  },
  {
   "metadata": {
    "ExecuteTime": {
     "end_time": "2024-04-07T09:49:09.320748Z",
     "start_time": "2024-04-07T09:49:09.317870Z"
    }
   },
   "cell_type": "code",
   "source": [
    "#Same function as above without the print statements\n",
    "def constant_div(n_1, steps_1):\n",
    "    tot = 0.5\n",
    "    glasses = np.zeros(n_1)\n",
    "    addition = tot / n_1\n",
    "    max_water = 0\n",
    "    overall_max = 0\n",
    "    k = 0\n",
    "    while k <= steps_1:\n",
    "        if max_water <= 1:\n",
    "            for i in range(n_1):\n",
    "                glasses[i] += addition\n",
    "            removal_index = glasses.argmax()\n",
    "            if removal_index == n_1 - 1:\n",
    "                glasses[removal_index] = 0\n",
    "                glasses[0] = 0\n",
    "            else:\n",
    "                glasses[removal_index] = 0\n",
    "                glasses[removal_index + 1] = 0\n",
    "            max_water = glasses.max()\n",
    "            if max_water >= overall_max:\n",
    "                overall_max = max_water\n",
    "\n",
    "            #print(\"No glasses full. Max water: \" + str(max_water))\n",
    "            #print(glasses)\n",
    "        else:\n",
    "            return overall_max\n",
    "        k += 1\n",
    "    #print('Overall max water achieved = ', str(overall_max))\n",
    "    return overall_max"
   ],
   "id": "e8ed2c053ff01f27",
   "outputs": [],
   "execution_count": 4
  },
  {
   "metadata": {
    "ExecuteTime": {
     "end_time": "2024-04-07T09:49:09.324773Z",
     "start_time": "2024-04-07T09:49:09.322354Z"
    }
   },
   "cell_type": "code",
   "source": [
    "#Similar function but instead of adding water in each glasses, we add water in every other glass. Removal scheme remains the same.\n",
    "def constant_div_2(n_2, steps_2):\n",
    "    tot = 0.5\n",
    "    glasses = np.zeros(n_2)\n",
    "    addition = (tot * 2) / n_2\n",
    "    max_water = 0\n",
    "    overall_max = 0\n",
    "    k = 0\n",
    "    addition_index = np.arange(0, n_2, 2)\n",
    "    while k <= steps_2:\n",
    "        if max_water <= 1:\n",
    "            for i in addition_index:\n",
    "                glasses[i] += addition\n",
    "            removal_index = glasses.argmax()\n",
    "            if removal_index == n_2 - 1:\n",
    "                glasses[removal_index] = 0\n",
    "                glasses[0] = 0\n",
    "            else:\n",
    "                glasses[removal_index] = 0\n",
    "                glasses[removal_index + 1] = 0\n",
    "            max_water = glasses.max()\n",
    "            if max_water >= overall_max:\n",
    "                overall_max = max_water\n",
    "\n",
    "            #print(\"No glasses full. Max water: \" + str(max_water))\n",
    "        else:\n",
    "            return overall_max\n",
    "        k += 1\n",
    "\n",
    "        #print('Overall max water achieved = ', str(overall_max))\n",
    "    return overall_max\n",
    "\n"
   ],
   "id": "38a01302d4542d1b",
   "outputs": [],
   "execution_count": 5
  },
  {
   "metadata": {
    "ExecuteTime": {
     "end_time": "2024-04-07T09:49:09.327694Z",
     "start_time": "2024-04-07T09:49:09.325767Z"
    }
   },
   "cell_type": "code",
   "source": [
    "n_s = [5, 10, 20, 40, 50, 80, 100, 150, 200, 500, 800, 1000]\n",
    "steps = 200_000\n",
    "waters_no_div = []\n",
    "waters_div = []"
   ],
   "id": "5301f3ced0c73fd3",
   "outputs": [],
   "execution_count": 6
  },
  {
   "metadata": {
    "ExecuteTime": {
     "end_time": "2024-04-07T09:49:09.366621Z",
     "start_time": "2024-04-07T09:49:09.328115Z"
    }
   },
   "cell_type": "code",
   "source": "import ipyparallel as ipp",
   "id": "59a1d6bd3326d1c",
   "outputs": [],
   "execution_count": 7
  },
  {
   "metadata": {
    "ExecuteTime": {
     "end_time": "2024-04-07T09:49:14.388989Z",
     "start_time": "2024-04-07T09:49:09.367438Z"
    }
   },
   "cell_type": "code",
   "source": [
    "c = ipp.Client()\n",
    "dview = c[:]"
   ],
   "id": "9b70895973d4505f",
   "outputs": [
    {
     "name": "stderr",
     "output_type": "stream",
     "text": [
      "/Library/Frameworks/Python.framework/Versions/3.11/lib/python3.11/site-packages/ipyparallel/util.py:212: RuntimeWarning: IPython could not determine IPs for Samarths-MBP-2: [Errno 8] nodename nor servname provided, or not known\n",
      "  warnings.warn(\n"
     ]
    }
   ],
   "execution_count": 8
  },
  {
   "metadata": {
    "ExecuteTime": {
     "end_time": "2024-04-07T09:49:51.381570Z",
     "start_time": "2024-04-07T09:49:51.351343Z"
    }
   },
   "cell_type": "code",
   "source": [
    "# Use `sync_imports` to import required modules on all engines\n",
    "steps = 200_000\n",
    "with dview.sync_imports():\n",
    "    import numpy as np\n",
    "\n",
    "dview.execute('import numpy as np')\n"
   ],
   "id": "ffaaa08db0c52b8",
   "outputs": [
    {
     "name": "stdout",
     "output_type": "stream",
     "text": [
      "importing numpy on engine(s)\n"
     ]
    },
    {
     "data": {
      "text/plain": [
       "<AsyncResult(execute): pending>"
      ]
     },
     "execution_count": 12,
     "metadata": {},
     "output_type": "execute_result"
    }
   ],
   "execution_count": 12
  },
  {
   "metadata": {
    "ExecuteTime": {
     "end_time": "2024-04-07T09:49:56.155500Z",
     "start_time": "2024-04-07T09:49:56.136287Z"
    }
   },
   "cell_type": "code",
   "source": [
    "dview.push({\"constant_div_2\" : constant_div_2})\n",
    "dview.push({'steps' : steps})"
   ],
   "id": "e7642d2968494a9b",
   "outputs": [
    {
     "data": {
      "text/plain": [
       "<AsyncResult(_push): pending>"
      ]
     },
     "execution_count": 13,
     "metadata": {},
     "output_type": "execute_result"
    }
   ],
   "execution_count": 13
  },
  {
   "metadata": {
    "ExecuteTime": {
     "end_time": "2024-04-07T09:50:11.149176Z",
     "start_time": "2024-04-07T09:49:57.113088Z"
    }
   },
   "cell_type": "code",
   "source": [
    "# Scatter 'k' to all engines if you have different values for each or simply pass it as an argument for the same 'k' for all simulations\n",
    "n_s =  [5, 10, 20, 50, 100, 150, 200, 500, 800, 1000]   # Example: same 'k' for all engines\n",
    "\n",
    "results = dview.map_sync(lambda x: constant_div_2(x, steps), n_s)"
   ],
   "id": "161e6e0292fcf339",
   "outputs": [],
   "execution_count": 14
  },
  {
   "metadata": {
    "ExecuteTime": {
     "end_time": "2024-04-07T09:51:07.178278Z",
     "start_time": "2024-04-07T09:51:07.164125Z"
    }
   },
   "cell_type": "code",
   "source": "dview.push({'constant_div' : constant_div})",
   "id": "284660a78da55ae1",
   "outputs": [
    {
     "data": {
      "text/plain": [
       "<AsyncResult(_push): pending>"
      ]
     },
     "execution_count": 15,
     "metadata": {},
     "output_type": "execute_result"
    }
   ],
   "execution_count": 15
  },
  {
   "metadata": {
    "ExecuteTime": {
     "end_time": "2024-04-07T09:51:45.695514Z",
     "start_time": "2024-04-07T09:51:25.716565Z"
    }
   },
   "cell_type": "code",
   "source": "results_2 = dview.map_sync(lambda x: constant_div(x, steps), n_s)",
   "id": "e8d4dc847f74161e",
   "outputs": [],
   "execution_count": 16
  },
  {
   "metadata": {},
   "cell_type": "code",
   "outputs": [],
   "execution_count": null,
   "source": "",
   "id": "7b903cc2ff224991"
  }
 ],
 "metadata": {
  "kernelspec": {
   "display_name": "Python 3",
   "language": "python",
   "name": "python3"
  },
  "language_info": {
   "codemirror_mode": {
    "name": "ipython",
    "version": 2
   },
   "file_extension": ".py",
   "mimetype": "text/x-python",
   "name": "python",
   "nbconvert_exporter": "python",
   "pygments_lexer": "ipython2",
   "version": "2.7.6"
  }
 },
 "nbformat": 4,
 "nbformat_minor": 5
}
